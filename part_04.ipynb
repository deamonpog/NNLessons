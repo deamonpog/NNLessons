{
 "cells": [
  {
   "cell_type": "code",
   "execution_count": 1,
   "id": "83c3ac66-5bd4-482e-8eb4-2146b5589443",
   "metadata": {},
   "outputs": [
    {
     "name": "stdout",
     "output_type": "stream",
     "text": [
      "Requirement already satisfied: nnfs in c:\\users\\pog66\\.conda\\envs\\main\\lib\\site-packages (0.5.1)\n",
      "Requirement already satisfied: numpy in c:\\users\\pog66\\.conda\\envs\\main\\lib\\site-packages (from nnfs) (1.26.4)\n"
     ]
    }
   ],
   "source": [
    "!pip install nnfs"
   ]
  },
  {
   "cell_type": "code",
   "execution_count": 2,
   "id": "59748652-3ebc-4028-b27c-6b9044a79bf3",
   "metadata": {},
   "outputs": [],
   "source": [
    "import numpy as np\n",
    "import nnfs\n",
    "\n",
    "nnfs.init()"
   ]
  },
  {
   "cell_type": "markdown",
   "id": "f41b7a55-9b05-4fb4-aef8-2d811c1b6b84",
   "metadata": {},
   "source": [
    "## Dense Layers : fully connected layers\n",
    "## Activation functions:\n",
    "            - ReLU\n",
    "            - Softmax\n",
    "\n",
    "Weights defined as transpose for efficiency"
   ]
  },
  {
   "cell_type": "code",
   "execution_count": 3,
   "id": "d7f9d68c-6525-4f56-81cd-8f890a064006",
   "metadata": {},
   "outputs": [],
   "source": [
    "class LayerDense:\n",
    "    def __init__(self, num_inputs, num_neurons):\n",
    "        # initialize weights and biases\n",
    "        self.weights = 0.01 * np.random.randn(num_inputs, num_neurons) # <<- already transposed\n",
    "        self.biases = np.zeros((1,num_neurons))\n",
    "\n",
    "    def forward(self, inputs):\n",
    "        # calculate output values from inputs,weights adn biases\n",
    "        self.output = np.matmul(inputs, self.weights) + self.biases"
   ]
  },
  {
   "cell_type": "code",
   "execution_count": 4,
   "id": "21ab791c-470d-4b80-82dd-40550c6e68ab",
   "metadata": {},
   "outputs": [],
   "source": [
    "class ActivationReLU:\n",
    "    def forward(self, inputs):\n",
    "        self.output = np.maximum(0, inputs)"
   ]
  },
  {
   "cell_type": "code",
   "execution_count": 5,
   "id": "aca10fce-8846-40b5-837d-3f0327602722",
   "metadata": {},
   "outputs": [],
   "source": [
    "class ActivationSoftmax:\n",
    "    def forward(self, inputs):\n",
    "        exp_vals = np.exp(inputs - np.max(inputs, axis=1, keepdims=True))\n",
    "        prob = exp_vals / np.sum(exp_vals, axis=1, keepdims=True)\n",
    "        self.output = prob"
   ]
  },
  {
   "cell_type": "code",
   "execution_count": 10,
   "id": "f0dc7c15-6a81-4c3b-9d70-c30da3b6e06a",
   "metadata": {},
   "outputs": [
    {
     "name": "stdout",
     "output_type": "stream",
     "text": [
      "[[ 0.0000000e+00  0.0000000e+00  0.0000000e+00]\n",
      " [ 9.4573094e-05 -5.9267721e-05  7.2208582e-05]\n",
      " [ 1.6830028e-04 -8.3797575e-05  2.0559385e-04]\n",
      " [ 6.5878841e-05  6.9999973e-05  4.4613457e-04]\n",
      " [ 2.8068494e-04 -9.6152013e-05  4.9797294e-04]\n",
      " [ 4.4868878e-04 -4.2396926e-04 -1.6528208e-04]\n",
      " [ 3.9569655e-05  2.1502166e-04  8.8323408e-04]\n",
      " [ 6.3656073e-04 -3.6693056e-04  5.9982738e-04]\n",
      " [ 6.7692413e-04 -6.7931623e-04 -3.9051610e-04]\n",
      " [ 8.1240491e-04 -4.6152930e-04  7.8957796e-04]]\n",
      "[[0.0000000e+00 0.0000000e+00 0.0000000e+00]\n",
      " [9.4573094e-05 0.0000000e+00 7.2208582e-05]\n",
      " [1.6830028e-04 0.0000000e+00 2.0559385e-04]\n",
      " [6.5878841e-05 6.9999973e-05 4.4613457e-04]\n",
      " [2.8068494e-04 0.0000000e+00 4.9797294e-04]\n",
      " [4.4868878e-04 0.0000000e+00 0.0000000e+00]\n",
      " [3.9569655e-05 2.1502166e-04 8.8323408e-04]\n",
      " [6.3656073e-04 0.0000000e+00 5.9982738e-04]\n",
      " [6.7692413e-04 0.0000000e+00 0.0000000e+00]\n",
      " [8.1240491e-04 0.0000000e+00 7.8957796e-04]]\n",
      "[[ 0.00000000e+00  0.00000000e+00  0.00000000e+00]\n",
      " [-1.39179065e-06  1.17216780e-06  1.31690456e-06]\n",
      " [-3.25156043e-06  2.57952888e-06  3.40355700e-06]\n",
      " [-5.03602496e-06  4.17386718e-06  6.83608414e-06]\n",
      " [-6.98144686e-06  5.29496447e-06  7.80881419e-06]\n",
      " [-3.16030400e-06  3.36790231e-06  1.53737813e-06]\n",
      " [-9.42678616e-06  8.48010586e-06  1.37422676e-05]\n",
      " [-1.05116342e-05  8.61829449e-06  1.04286682e-05]\n",
      " [-4.76786181e-06  5.08105950e-06  2.31939907e-06]\n",
      " [-1.36571089e-05  1.11530171e-05  1.36402305e-05]]\n",
      "[[0.33333334 0.33333334 0.33333334]\n",
      " [0.33333275 0.3333336  0.33333364]\n",
      " [0.33333194 0.33333388 0.33333415]\n",
      " [0.333331   0.3333341  0.33333495]\n",
      " [0.33333033 0.33333442 0.33333528]\n",
      " [0.33333206 0.33333424 0.33333364]\n",
      " [0.33332878 0.33333474 0.33333647]\n",
      " [0.33332887 0.33333525 0.33333585]\n",
      " [0.33333144 0.33333474 0.33333382]\n",
      " [0.33332753 0.33333582 0.33333665]]\n"
     ]
    }
   ],
   "source": [
    "# Example run\n",
    "from nnfs.datasets import spiral_data\n",
    "\n",
    "np.random.seed(123)\n",
    "X, y = spiral_data(samples=100, classes=3)\n",
    "dense1 = LayerDense(2,3)\n",
    "activation1 = ActivationReLU()\n",
    "dense2 = LayerDense(3,3)\n",
    "activation2 = ActivationSoftmax()\n",
    "\n",
    "dense1.forward(X)\n",
    "print(dense1.output[:10])\n",
    "\n",
    "activation1.forward(dense1.output)\n",
    "print(activation1.output[:10])\n",
    "\n",
    "dense2.forward(activation1.output)\n",
    "print(dense2.output[:10])\n",
    "\n",
    "activation2.forward(dense2.output)\n",
    "print(activation2.output[:10])"
   ]
  },
  {
   "cell_type": "code",
   "execution_count": 7,
   "id": "1ce29951-557a-4760-8c11-ca9e4b8bc3d9",
   "metadata": {},
   "outputs": [
    {
     "data": {
      "text/plain": [
       "(300, 2)"
      ]
     },
     "execution_count": 7,
     "metadata": {},
     "output_type": "execute_result"
    }
   ],
   "source": [
    "X.shape"
   ]
  },
  {
   "cell_type": "code",
   "execution_count": 8,
   "id": "1655e5ee-2171-4096-bb5b-26a3d6fc2b81",
   "metadata": {},
   "outputs": [
    {
     "data": {
      "text/plain": [
       "array([[0.        , 0.        ],\n",
       "       [0.00299556, 0.00964661],\n",
       "       [0.01288097, 0.01556285],\n",
       "       [0.02997479, 0.0044481 ],\n",
       "       [0.03931246, 0.00932828]], dtype=float32)"
      ]
     },
     "execution_count": 8,
     "metadata": {},
     "output_type": "execute_result"
    }
   ],
   "source": [
    "X[:5]"
   ]
  },
  {
   "cell_type": "code",
   "execution_count": null,
   "id": "6b5ed325-16a4-482a-984b-e3c8f8430c72",
   "metadata": {},
   "outputs": [],
   "source": []
  }
 ],
 "metadata": {
  "kernelspec": {
   "display_name": "Python 3 (ipykernel)",
   "language": "python",
   "name": "python3"
  },
  "language_info": {
   "codemirror_mode": {
    "name": "ipython",
    "version": 3
   },
   "file_extension": ".py",
   "mimetype": "text/x-python",
   "name": "python",
   "nbconvert_exporter": "python",
   "pygments_lexer": "ipython3",
   "version": "3.12.5"
  }
 },
 "nbformat": 4,
 "nbformat_minor": 5
}
