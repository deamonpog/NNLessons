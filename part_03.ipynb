{
 "cells": [
  {
   "cell_type": "code",
   "execution_count": 1,
   "id": "83c3ac66-5bd4-482e-8eb4-2146b5589443",
   "metadata": {},
   "outputs": [
    {
     "name": "stdout",
     "output_type": "stream",
     "text": [
      "Collecting nnfs\n",
      "  Downloading nnfs-0.5.1-py3-none-any.whl.metadata (1.7 kB)\n",
      "Requirement already satisfied: numpy in c:\\users\\pog66\\.conda\\envs\\main\\lib\\site-packages (from nnfs) (1.26.4)\n",
      "Downloading nnfs-0.5.1-py3-none-any.whl (9.1 kB)\n",
      "Installing collected packages: nnfs\n",
      "Successfully installed nnfs-0.5.1\n"
     ]
    }
   ],
   "source": [
    "!pip install nnfs"
   ]
  },
  {
   "cell_type": "code",
   "execution_count": 25,
   "id": "59748652-3ebc-4028-b27c-6b9044a79bf3",
   "metadata": {},
   "outputs": [],
   "source": [
    "import numpy as np\n",
    "import nnfs\n",
    "\n",
    "nnfs.init()"
   ]
  },
  {
   "cell_type": "markdown",
   "id": "f41b7a55-9b05-4fb4-aef8-2d811c1b6b84",
   "metadata": {},
   "source": [
    "## Dense Layers : fully connected layers\n",
    "\n",
    "Weights defined as transpose for efficiency"
   ]
  },
  {
   "cell_type": "code",
   "execution_count": 26,
   "id": "d7f9d68c-6525-4f56-81cd-8f890a064006",
   "metadata": {},
   "outputs": [],
   "source": [
    "class LayerDense:\n",
    "    def __init__(self, num_inputs, num_neurons):\n",
    "        # initialize weights and biases\n",
    "        self.weights = 0.01 * np.random.randn(num_inputs, num_neurons) # <<- already transposed\n",
    "        self.biases = np.zeros((1,num_neurons))\n",
    "\n",
    "    def forward(self, inputs):\n",
    "        # calculate output values from inputs,weights adn biases\n",
    "        self.output = np.matmul(inputs, self.weights) + self.biases"
   ]
  },
  {
   "cell_type": "code",
   "execution_count": 30,
   "id": "f0dc7c15-6a81-4c3b-9d70-c30da3b6e06a",
   "metadata": {},
   "outputs": [
    {
     "name": "stdout",
     "output_type": "stream",
     "text": [
      "[[ 0.00000000e+00  0.00000000e+00  0.00000000e+00]\n",
      " [-2.61496280e-05 -5.70940319e-05 -1.16960771e-04]\n",
      " [-7.69893741e-05 -4.75328154e-04 -2.12466970e-04]\n",
      " [-1.19454686e-04 -6.26299181e-04 -3.77396675e-04]\n",
      " [-1.59333722e-04 -8.86327529e-04 -4.81519091e-04]]\n"
     ]
    }
   ],
   "source": [
    "# Example run\n",
    "X, y = nnfs.datasets.spiral_data(samples=100, classes=3)\n",
    "dense1 = LayerDense(2,3)\n",
    "dense1.forward(X)\n",
    "print(dense1.output[:5])"
   ]
  },
  {
   "cell_type": "code",
   "execution_count": 31,
   "id": "1ce29951-557a-4760-8c11-ca9e4b8bc3d9",
   "metadata": {},
   "outputs": [
    {
     "data": {
      "text/plain": [
       "(300, 2)"
      ]
     },
     "execution_count": 31,
     "metadata": {},
     "output_type": "execute_result"
    }
   ],
   "source": [
    "X.shape"
   ]
  },
  {
   "cell_type": "code",
   "execution_count": 32,
   "id": "1655e5ee-2171-4096-bb5b-26a3d6fc2b81",
   "metadata": {},
   "outputs": [
    {
     "data": {
      "text/plain": [
       "array([[-0.        ,  0.        ],\n",
       "       [-0.00547079,  0.00849122],\n",
       "       [ 0.0105405 ,  0.01723425],\n",
       "       [ 0.00670891,  0.02955104],\n",
       "       [ 0.01336712,  0.03812882]], dtype=float32)"
      ]
     },
     "execution_count": 32,
     "metadata": {},
     "output_type": "execute_result"
    }
   ],
   "source": [
    "X[:5]"
   ]
  },
  {
   "cell_type": "code",
   "execution_count": null,
   "id": "6b5ed325-16a4-482a-984b-e3c8f8430c72",
   "metadata": {},
   "outputs": [],
   "source": []
  }
 ],
 "metadata": {
  "kernelspec": {
   "display_name": "Python 3 (ipykernel)",
   "language": "python",
   "name": "python3"
  },
  "language_info": {
   "codemirror_mode": {
    "name": "ipython",
    "version": 3
   },
   "file_extension": ".py",
   "mimetype": "text/x-python",
   "name": "python",
   "nbconvert_exporter": "python",
   "pygments_lexer": "ipython3",
   "version": "3.12.5"
  }
 },
 "nbformat": 4,
 "nbformat_minor": 5
}
